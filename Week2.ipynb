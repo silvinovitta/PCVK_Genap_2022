{
  "nbformat": 4,
  "nbformat_minor": 0,
  "metadata": {
    "colab": {
      "name": "Week2.ipynb",
      "provenance": [],
      "collapsed_sections": [],
      "authorship_tag": "ABX9TyOAFlWLdgZycnC7Nmubom/d",
      "include_colab_link": true
    },
    "kernelspec": {
      "name": "python3",
      "display_name": "Python 3"
    },
    "language_info": {
      "name": "python"
    }
  },
  "cells": [
    {
      "cell_type": "markdown",
      "metadata": {
        "id": "view-in-github",
        "colab_type": "text"
      },
      "source": [
        "<a href=\"https://colab.research.google.com/github/silvinovitta/PCVK_Genap_2022/blob/main/Week2.ipynb\" target=\"_parent\"><img src=\"https://colab.research.google.com/assets/colab-badge.svg\" alt=\"Open In Colab\"/></a>"
      ]
    },
    {
      "cell_type": "code",
      "execution_count": null,
      "metadata": {
        "id": "J7IjIgK4c_Bz"
      },
      "outputs": [],
      "source": [
        "from google.colab import drive\n",
        "\n",
        "#accesing My Google Drive\n",
        "drive.mount('/content/drive')\n",
        "\n",
        "\n",
        "import cv2 as cv\n",
        "from google.colab.patches import cv2_imshow\n",
        "from skimage import io\n",
        "import matplotlib.pyplot as plt\n",
        "import numpy as np\n",
        "img = cv.imread('/content/drive/MyDrive/PCVK_MM/Images/kitten01.jpg')\n",
        "plt.imshow(img)                         \n",
        "\n",
        "img2 = img \n",
        "img3 = cv.cvtColor(img,cv.COLOR_BGR2RGB)\n",
        "plt.imshow(img3)"
      ]
    },
    {
      "cell_type": "code",
      "source": [
        ""
      ],
      "metadata": {
        "id": "MmJAp_85ihMZ"
      },
      "execution_count": null,
      "outputs": []
    },
    {
      "cell_type": "code",
      "source": [
        ""
      ],
      "metadata": {
        "id": "tcRsWjH7dwwe"
      },
      "execution_count": null,
      "outputs": []
    }
  ]
}