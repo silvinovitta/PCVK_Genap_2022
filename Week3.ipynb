{
  "nbformat": 4,
  "nbformat_minor": 0,
  "metadata": {
    "colab": {
      "name": "Week3.ipynb",
      "provenance": [],
      "collapsed_sections": [],
      "authorship_tag": "ABX9TyOkRiubV/vNOyx9u4JK6kYf",
      "include_colab_link": true
    },
    "kernelspec": {
      "name": "python3",
      "display_name": "Python 3"
    },
    "language_info": {
      "name": "python"
    }
  },
  "cells": [
    {
      "cell_type": "markdown",
      "metadata": {
        "id": "view-in-github",
        "colab_type": "text"
      },
      "source": [
        "<a href=\"https://colab.research.google.com/github/silvinovitta/PCVK_Genap_2022/blob/main/Week3.ipynb\" target=\"_parent\"><img src=\"https://colab.research.google.com/assets/colab-badge.svg\" alt=\"Open In Colab\"/></a>"
      ]
    },
    {
      "cell_type": "code",
      "execution_count": null,
      "metadata": {
        "id": "lvjYGmJdj7G4"
      },
      "outputs": [],
      "source": [
        "from google.colab import drive\n",
        "drive.mount ('/content/drive')\n",
        "\n",
        "from google.colab.patches import cv2_imshow\n",
        "from skimage import io\n",
        "import matplotlib.pyplot as plt\n",
        "import numpy as np\n",
        "import cv2 as cv\n",
        "\n",
        "\n",
        "print ('Mengubah tingkat kecerahan citra')\n",
        "print ('--------------------------------')\n",
        "try:\n",
        "  brightness = int(input('Masukkan nilai kecerahan: '))\n",
        "except ValueError:\n",
        "  print('Error, not a number')\n",
        "\n",
        "original = cv.imread ('content/drive/MyDrive/PCVK2022/Week3/jisoo.tiff')\n",
        "brightness_image = np.zeros(original.shape, original.dtype)\n",
        "\n",
        "#akses per piksel\n",
        "for y in  range(original.shape[0]):\n",
        "  for x in range(original.shape[1]):\n",
        "    for c in range(original.shape[2]):\n",
        "      brightness_image[y,x,c] = np.clip(original[y,x,c] + brightness, 0, 255)\n",
        "\n",
        "#cara simpel tanpa for loop\n",
        "#brightness_image = cv.convertScaleAbs(original, beta=brightness)\n",
        "\n",
        "final_frame = cv.hconcat((original, brightness_image))\n",
        "cv2_imshow(final_frame)\n",
        "\n",
        "#tugas \n",
        "\n",
        "print ('Mengubah kontras dan tingkat kecerahan citra')\n",
        "print ('-------------============-------------------')\n",
        "try :\n",
        "  brightness = int(input('Masukkan nilai kecerahan [-255 - 255]: '))\n",
        "  contrast = float(input('Masukkan kontras [1.0 - 3.0]: '))\n",
        "except ValueError:\n",
        "  original = cv.imread ('content/drive/MyDrive/PCVK2022/Week3/jisoo.tiff')\n",
        "  contrast_image = np.zeros(original.shape, original.dtype)\n",
        "\n",
        "  for y in  range(original.shape[0]):\n",
        "    for x in range(original.shape[1]):\n",
        "     for c in range(original.shape[2]):\n",
        "      contrast_image[y,x,c] = np.clip(contrast*original[y,x,c] + brightness, 0, 255)\n",
        "\n",
        "       final_frame = cv.hconcat((original, contrast_image))\n",
        "       cv2_imshow(final_frame)"
      ]
    }
  ]
}