{
  "nbformat": 4,
  "nbformat_minor": 0,
  "metadata": {
    "colab": {
      "name": "Week1.ipynb",
      "provenance": [],
      "include_colab_link": true
    },
    "kernelspec": {
      "name": "python3",
      "display_name": "Python 3"
    },
    "language_info": {
      "name": "python"
    }
  },
  "cells": [
    {
      "cell_type": "markdown",
      "metadata": {
        "id": "view-in-github",
        "colab_type": "text"
      },
      "source": [
        "<a href=\"https://colab.research.google.com/github/silvinovitta/PCVK_Genap_2022/blob/main/Week1.ipynb\" target=\"_parent\"><img src=\"https://colab.research.google.com/assets/colab-badge.svg\" alt=\"Open In Colab\"/></a>"
      ]
    },
    {
      "cell_type": "code",
      "execution_count": null,
      "metadata": {
        "id": "0LFlGWstdp14"
      },
      "outputs": [],
      "source": [
        ""
      ]
    },
    {
      "cell_type": "code",
      "source": [
        "import numpy as np\n",
        "import pandas as pd\n",
        "import cv2 as cv\n",
        "from google.colab.patches import cv2_imshow #for image display\n",
        "from skimage import io\n",
        "from skimage import transform\n",
        "from PIL import Image\n",
        "import matplotlib.pylab as plt\n",
        "\n",
        "# Membuat list untuk menyimpan url dari beberapa image\n",
        "urls = [\"https://iiif.lib.ncsu.edu/iiif/0052574/full/800,/0/default.jpg\",\n",
        "\"https://iiif.lib.ncsu.edu/iiif/0016007/full/800,/0/default.jpg\",\n",
        "\"https://placekitten.com/800/571\"]\n",
        "# baca dan tampilkan image\n",
        "# loop pada tiap url image, beberapa image dapat disimpan pada list\n",
        "\n",
        "for url in urls:\n",
        "  image = io.imread(url)                            \n",
        "  image = cv.resize(image, (0,0), fx=0.5, fy=0.5)   \n",
        "  image_2 = cv.cvtColor(image, cv.COLOR_BGR2RGB)\n",
        "  final_frame = cv.hconcat((image, image_2))\n",
        "  cv2_imshow(final_frame)\n",
        "  print('\\n')\n",
        "\n",
        "  int tinggi, lebar\n",
        "  [S1] tinggi = image_2.shape[0]\n",
        "       lebar = image_2.shape[1]\n",
        "       print(\"resolusi image: tinggi x lebar = \",tinggi,\"x\",lebar)\n",
        "       cv2_imshow(image_2)\n",
        "\n",
        "\n",
        "\n"
      ],
      "metadata": {
        "id": "FT454GEEnP3p",
        "colab": {
          "base_uri": "https://localhost:8080/",
          "height": 130
        },
        "outputId": "1c21d6a1-9b81-429d-a6e7-f8bbede934db"
      },
      "execution_count": null,
      "outputs": [
        {
          "output_type": "error",
          "ename": "SyntaxError",
          "evalue": "ignored",
          "traceback": [
            "\u001b[0;36m  File \u001b[0;32m\"<ipython-input-6-7805015b46a4>\"\u001b[0;36m, line \u001b[0;32m25\u001b[0m\n\u001b[0;31m    [S1] tinggi = image_2.shape[0]\u001b[0m\n\u001b[0m              ^\u001b[0m\n\u001b[0;31mSyntaxError\u001b[0m\u001b[0;31m:\u001b[0m invalid syntax\n"
          ]
        }
      ]
    }
  ]
}